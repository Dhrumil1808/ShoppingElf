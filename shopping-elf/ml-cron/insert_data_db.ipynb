import matplotlib.pyplot as plt
import numpy as np
from sklearn import datasets, linear_model
import time
import random
from datetime import datetime
import MySQLdb

db = MySQLdb.connect(host="localhost",    # your host, usually localhost
                     user="root",         # your username
                     passwd="root",  # your password
                     db="shopping")        # name of the data base

def days_between(d1, d2):
    d1 = datetime.strptime(d1, "%m-%d-%Y")
    d2 = datetime.strptime(d2, "%m-%d-%Y")
    return abs((d2 - d1).days)

%matplotlib inline

cur = db.cursor()

# Use all the SQL you like
#cur.execute("SELECT * FROM YOUR_TABLE_NAME")

# print all the first cell of all the rows

with open("data/user-product-sample.txt","r") as text_file:
    all_lines = text_file.read().split("\n")

lines= [line.split("|") for line in all_lines if ((len(line.split("|"))==3) and (line.split("|")[2]<> ''))]

product_qty_array= [(float(line[2])) for line in lines]

#print len(product_qty);
#print len(all_lines)
product_name_array=[line[0] for line in lines]
product_name_test=product_name_array.pop(len(product_name_array)-1)

output=[]
#print len(all_lines)
i=1;
days_array=[]
products_array=[]
j=0;
prev=0;
for index in range(0, len(all_lines)):
    product_name=all_lines[index].split("|")[0]
    previous_date= all_lines[index].split("|")[1]
    days= float(all_lines[index].split("|")[2])
    cron_date = all_lines[index].split("|")[3]
    cur.execute("""INSERT INTO inventory VALUES (%s,%s,%s,%s,%s)""",(NULL,product_name,previous_date,days,cron_date))
    db.commit()

db.close()

    
  