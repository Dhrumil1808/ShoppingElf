{
 "cells": [
  {
   "cell_type": "code",
   "execution_count": 1,
   "metadata": {
    "collapsed": false
   },
   "outputs": [
    {
     "name": "stderr",
     "output_type": "stream",
     "text": [
      "/Users/rashmisharma/anaconda/lib/python2.7/site-packages/matplotlib/font_manager.py:280: UserWarning: Matplotlib is building the font cache using fc-list. This may take a moment.\n",
      "  'Matplotlib is building the font cache using fc-list. '\n"
     ]
    }
   ],
   "source": [
    "%matplotlib inline"
   ]
  },
  {
   "cell_type": "markdown",
   "metadata": {},
   "source": [
    "\n",
    "# Linear Regression Example\n",
    "\n",
    "This example uses the only the first feature of the `diabetes` dataset, in\n",
    "order to illustrate a two-dimensional plot of this regression technique. The\n",
    "straight line can be seen in the plot, showing how linear regression attempts\n",
    "to draw a straight line that will best minimize the residual sum of squares\n",
    "between the observed responses in the dataset, and the responses predicted by\n",
    "the linear approximation.\n",
    "\n",
    "The coefficients, the residual sum of squares and the variance score are also\n",
    "calculated.\n",
    "\n"
   ]
  },
  {
   "cell_type": "code",
   "execution_count": null,
   "metadata": {
    "collapsed": true
   },
   "outputs": [],
   "source": []
  },
  {
   "cell_type": "code",
   "execution_count": 52,
   "metadata": {
    "collapsed": false
   },
   "outputs": [
    {
     "name": "stdout",
     "output_type": "stream",
     "text": [
      "Automatically created module for IPython interactive environment\n",
      "[[  2.]\n",
      " [ 12.]\n",
      " [  5.]\n",
      " [ 10.]\n",
      " [  1.]\n",
      " [  6.]\n",
      " [ 10.]\n",
      " [  3.]\n",
      " [  8.]\n",
      " [ 12.]\n",
      " [  3.]\n",
      " [  9.]]\n",
      "01-25-2017\n",
      "01-28-2017\n",
      "3\n",
      "01-28-2017\n",
      "02-15-2017\n",
      "18\n",
      "02-15-2017\n",
      "02-28-2017\n",
      "13\n",
      "02-28-2017\n",
      "03-05-2017\n",
      "5\n",
      "03-05-2017\n",
      "03-18-2017\n",
      "13\n",
      "03-18-2017\n",
      "03-28-2017\n",
      "10\n",
      "03-28-2017\n",
      "04-01-2017\n",
      "4\n",
      "04-01-2017\n",
      "04-03-2017\n",
      "2\n",
      "04-03-2017\n",
      "04-15-2017\n",
      "12\n",
      "04-15-2017\n",
      "04-25-2017\n",
      "10\n",
      "04-25-2017\n",
      "04-28-2017\n",
      "3\n",
      "04-28-2017\n",
      "05-02-2017\n",
      "4\n",
      "('Coefficients: \\n', array([ 0.36563877]))\n",
      "[ 7.44346549  7.44346549  9.27165932  7.80910426  8.54038179]\n",
      "Mean squared error: 12.80\n",
      "Variance score: -0.03\n"
     ]
    },
    {
     "data": {
      "image/png": "[encoded data removed]",
      "text/plain": [
       "<matplotlib.figure.Figure at 0x1108bfbd0>"
      ]
     },
     "metadata": {},
     "output_type": "display_data"
    }
   ],
   "source": [
    "print(__doc__)\n",
    "\n",
    "\n",
    "# Code source: Jaques Grobler\n",
    "# License: BSD 3 clause\n",
    "\n",
    "\n",
    "import matplotlib.pyplot as plt\n",
    "import numpy as np\n",
    "from sklearn import datasets, linear_model\n",
    "\n",
    "\n",
    "\n",
    "from datetime import datetime\n",
    "\n",
    "def days_between(d1, d2):\n",
    "    d1 = datetime.strptime(d1, \"%m-%d-%Y\")\n",
    "    d2 = datetime.strptime(d2, \"%m-%d-%Y\")\n",
    "    return abs((d2 - d1).days)\n",
    "\n",
    "\n",
    "\n",
    "\n",
    "\n",
    "\n",
    "with open(\"data/user-product-sample.txt\",\"r\") as text_file:\n",
    "    all_lines = text_file.read().split(\"\\n\")\n",
    "\n",
    "lines= [line.split(\"|\") for line in all_lines if ((len(line.split(\"|\"))==3) and (line.split(\"|\")[2]<> ''))]\n",
    "\n",
    "\n",
    "\n",
    "product_qty_array= [(float(line[2])) for line in lines]\n",
    "qty_test=product_qty_array.pop(len(product_qty_array)-1)\n",
    "\n",
    "product_qty=np.array(product_qty_array).reshape(len(product_qty_array), 1)\n",
    "\n",
    "print product_qty;\n",
    "\n",
    "\n",
    "\n",
    "i=1;\n",
    "days_array=[]\n",
    "for index in range(1, len(all_lines)):\n",
    "    previous_date= all_lines[index-1].split(\"|\")[1]\n",
    "    next_date=all_lines[index].split(\"|\")[1]\n",
    "    print previous_date\n",
    "    print next_date\n",
    "    d=days_between(next_date,previous_date);\n",
    "    print d;\n",
    "    days_array.append(d);\n",
    "\n",
    "\n",
    "\n",
    "days=np.array(days_array);\n",
    "\n",
    "product_qty_test=np.array([5,5,10,6,8]).reshape(5,1);\n",
    "days_test=np.array([8,9,12,3,3]);\n",
    "\n",
    "# Create linear regression object\n",
    "regr = linear_model.LinearRegression()\n",
    "\n",
    "# Train the model using the training sets\n",
    "regr.fit(product_qty, days)\n",
    "\n",
    "# The coefficients\n",
    "print('Coefficients: \\n', regr.coef_)\n",
    "print (regr.predict(product_qty_test));\n",
    "\n",
    "# The mean squared error\n",
    "print(\"Mean squared error: %.2f\"\n",
    "     % np.mean((regr.predict(product_qty_test) - days_test) ** 2))\n",
    "# Explained variance score: 1 is perfect prediction\n",
    "print('Variance score: %.2f' % regr.score(product_qty_test, days_test))\n",
    "\n",
    "# Plot outputs\n",
    "plt.scatter(product_qty_test, days_test,  color='black')\n",
    "plt.plot(product_qty_test, regr.predict(product_qty_test), color='blue',linewidth=3)\n",
    "plt.xticks(())\n",
    "plt.yticks(())\n",
    "plt.show()\n"
   ]
  },
  {
   "cell_type": "code",
   "execution_count": null,
   "metadata": {
    "collapsed": true
   },
   "outputs": [],
   "source": []
  }
 ],
 "metadata": {
  "kernelspec": {
   "display_name": "Python 2",
   "language": "python",
   "name": "python2"
  },
  "language_info": {
   "codemirror_mode": {
    "name": "ipython",
    "version": 2
   },
   "file_extension": ".py",
   "mimetype": "text/x-python",
   "name": "python",
   "nbconvert_exporter": "python",
   "pygments_lexer": "ipython2",
   "version": "2.7.13"
  }
 },
 "nbformat": 4,
 "nbformat_minor": 0
}
