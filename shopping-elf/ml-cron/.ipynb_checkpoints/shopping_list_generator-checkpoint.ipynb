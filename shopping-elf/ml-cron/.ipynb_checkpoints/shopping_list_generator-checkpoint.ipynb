{
 "cells": [
  {
   "cell_type": "code",
   "execution_count": null,
   "metadata": {
    "collapsed": true
   },
   "outputs": [],
   "source": [
    "from flask import Flask\n",
    "from flask import request\n",
    "from flask import json\n",
    "app = Flask(__name__)\n",
    "\n",
    "\n",
    "\n",
    "import urllib\n",
    "\n",
    "@app.route(\"/elf/shopping_list\", methods=['POST'])\n",
    "def userInput():\n",
    "\tif request.methods == 'POST':\n",
    "\t\trequest_json=request.get_json()\n",
    "\t\tuserId=request_json['userId']\n",
    "        user\n",
    "\t\tisOverlayRequired=request_json['isOverlayRequired']\n",
    "\t\turl=request_json['url']  #/home/neil/Desktop/Selection_001.png\n",
    "\t\tpost_params = {\n",
    "\t\t              'param1' : language,\n",
    "\t\t              'param2' : isOverlayRequired,\n",
    "\t\t              'param3' : url\n",
    "\t\t              }\n",
    "\t\tpost_args = urllib.urlencode(post_params)\n",
    "\n",
    "\t\tresponse = urllib.urlopen(hit_url, post_args)\n",
    "\t\tres_json = json.load(response)\n",
    "\t\tprint res_json\n",
    "\n",
    "\t\tdicti = res_json['WordText']\n",
    "\t\tprint dicti\n",
    "\t\t\n",
    "if __name__ == \"__main__\":\n",
    "\tapp.run(debug=True,host='0.0.0.0')\n"
   ]
  }
 ],
 "metadata": {
  "kernelspec": {
   "display_name": "Python 2",
   "language": "python",
   "name": "python2"
  },
  "language_info": {
   "codemirror_mode": {
    "name": "ipython",
    "version": 2
   },
   "file_extension": ".py",
   "mimetype": "text/x-python",
   "name": "python",
   "nbconvert_exporter": "python",
   "pygments_lexer": "ipython2",
   "version": "2.7.12"
  }
 },
 "nbformat": 4,
 "nbformat_minor": 2
}
