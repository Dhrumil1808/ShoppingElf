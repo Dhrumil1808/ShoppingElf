{
 "cells": [
  {
   "cell_type": "code",
   "execution_count": 1,
   "metadata": {
    "collapsed": true
   },
   "outputs": [],
   "source": [
    "%matplotlib inline"
   ]
  },
  {
   "cell_type": "markdown",
   "metadata": {},
   "source": [
    "\n",
    "# Linear Regression Example\n",
    "\n",
    "This example uses the only the first feature of the `diabetes` dataset, in\n",
    "order to illustrate a two-dimensional plot of this regression technique. The\n",
    "straight line can be seen in the plot, showing how linear regression attempts\n",
    "to draw a straight line that will best minimize the residual sum of squares\n",
    "between the observed responses in the dataset, and the responses predicted by\n",
    "the linear approximation.\n",
    "\n",
    "The coefficients, the residual sum of squares and the variance score are also\n",
    "calculated.\n",
    "\n"
   ]
  },
  {
   "cell_type": "code",
   "execution_count": null,
   "metadata": {
    "collapsed": true
   },
   "outputs": [],
   "source": [
    ""
   ]
  },
  {
   "cell_type": "code",
   "execution_count": 5,
   "metadata": {
    "scrolled": false
   },
   "outputs": [
    {
     "name": "stdout",
     "output_type": "stream",
     "text": [
      "Automatically created module for IPython interactive environment\n",
      "22\n",
      "[[ 3.]]\n",
      "[[ 7.]]\n",
      "[[ 15.]]\n"
     ]
    }
   ],
   "source": [
    "print(__doc__)\n",
    "# Code source: Jaques Grobler\n",
    "# License: BSD 3 clause\n",
    "\n",
    "import matplotlib.pyplot as plt\n",
    "import numpy as np\n",
    "from sklearn import datasets, linear_model\n",
    "import time\n",
    "import random\n",
    "from datetime import datetime\n",
    "import MySQLdb\n",
    "import arrow\n",
    "\n",
    "db = MySQLdb.connect(host=\"localhost\",    # your host, usually localhost\n",
    "                     user=\"root\",         # your username\n",
    "                     passwd=\"root\",  # your password\n",
    "                     db=\"shopping\")        # name of the data base\n",
    "\n",
    "def days_between(d1, d2):\n",
    "    d1 = datetime.strptime(d1, \"%m-%d-%Y\")\n",
    "    d2 = datetime.strptime(d2, \"%m-%d-%Y\")\n",
    "    return abs((d2 - d1).days)\n",
    "\n",
    "with open(\"data/user-product-sample.txt\",\"r\") as text_file:\n",
    "    all_lines = text_file.read().split(\"\\n\")\n",
    "\n",
    "lines= [line.split(\"|\") for line in all_lines if ((len(line.split(\"|\"))==3) and (line.split(\"|\")[2]<> ''))]\n",
    "\n",
    "product_qty_array= [(float(line[2])) for line in lines]\n",
    "\n",
    "#print len(product_qty);\n",
    "#print len(all_lines)\n",
    "product_name_array=[line[0] for line in lines]\n",
    "product_name_test=product_name_array.pop(len(product_name_array)-1)\n",
    "\n",
    "output=[]\n",
    "#print len(all_lines)\n",
    "i=1;\n",
    "days_array=[]\n",
    "products_array=[]\n",
    "j=0;\n",
    "prev=0;\n",
    "print len(all_lines)\n",
    "for index in range(1, len(all_lines)):\n",
    "    product_name=all_lines[index-1].split(\"|\")[0]\n",
    "    product_name_next=all_lines[index].split(\"|\")[0]\n",
    "    previous_date= all_lines[index-1].split(\"|\")[1]\n",
    "    next_date=all_lines[index].split(\"|\")[1]\n",
    "    qty= float(all_lines[index-1].split(\"|\")[2])\n",
    "    qty_latest=float(all_lines[index].split(\"|\")[2])\n",
    "    \n",
    "    #condition runs for the last entry in the database\n",
    "    if(index==len(all_lines)-1):\n",
    "        qty_array=[]\n",
    "        days=np.array(days_array);\n",
    "        products=np.array(products_array).reshape(len(products_array),1)\n",
    "        #print days\n",
    "        days_test=np.array(random.sample(range(1,30),len(days_array)-1))\n",
    "        \n",
    "        #print days_test\n",
    "        qty_array.append(qty_latest)\n",
    "        \n",
    "        qty_latest1=np.array(qty_array).reshape(1,1)\n",
    "        print qty_latest1\n",
    "        #print days_test\n",
    "        # Create linear regression object\n",
    "        regr = linear_model.LinearRegression()\n",
    "\n",
    "        # Train the model using the training sets\n",
    "        regr.fit(products, days)\n",
    "\n",
    "        # The coefficients\n",
    "        #print('Coefficients: \\n', regr.coef_)\n",
    "        prediction=regr.predict(float(qty_latest))\n",
    "        #print prediction\n",
    "        \n",
    "        \n",
    "        with open(\"data/processed_data.txt\",\"a\") as write_file:\n",
    "            write_file.write(\"\\n\")\n",
    "            write_file.write(\"1\")\n",
    "            write_file.write(\"|\")\n",
    "            write_file.write(product_name)\n",
    "            write_file.write(\"|\")\n",
    "            write_file.write(next_date)\n",
    "            write_file.write(\"|\")\n",
    "            write_file.write('%d' % int(prediction))\n",
    "            write_file.write(\"|\")\n",
    "            write_file.write(arrow.now().format('YYYY-MM-DD'))\n",
    "            \n",
    "    #condition runs for the same product with different bill date\n",
    "    if(product_name==product_name_next):\n",
    "        if(prev!=j and index!=1):\n",
    "            del days_array[:]\n",
    "            del products_array[:]\n",
    "        prev=j;   \n",
    "        d=days_between(next_date,previous_date)\n",
    "        #print d\n",
    "        days_array.append(d)\n",
    "        products_array.append(qty)\n",
    "        \n",
    "        #condition runs when list of one product ends and the other starts \n",
    "    elif(product_name != product_name_next):\n",
    "        qty_array=[]\n",
    "        days=np.array(days_array);\n",
    "        products=np.array(products_array).reshape(len(products_array),1)\n",
    "        product_qty_test=np.array(random.sample(range(1,30),len(products))).reshape(len(products),1)\n",
    "        days_test=np.array(random.sample(range(1,30),len(days_array)-1))\n",
    "        qty_array.append(qty)\n",
    "        qty_latest1=np.array(qty_array).reshape(1,1)\n",
    "        print qty_latest1\n",
    "        \n",
    "        # Create linear regression object\n",
    "        regr = linear_model.LinearRegression()\n",
    "\n",
    "        # Train the model using the training sets\n",
    "        regr.fit(products, days)\n",
    "\n",
    "        # The coefficients\n",
    "        #print('Coefficients: \\n', regr.coef_)\n",
    "        prediction=regr.predict(float(qty_latest1))\n",
    "        #print prediction\n",
    "        \n",
    "        with open(\"data/processed_data.txt\",\"a\") as write_file:\n",
    "            write_file.write(\"\\n\")\n",
    "            write_file.write(\"1\")\n",
    "            write_file.write(\"|\")\n",
    "            write_file.write(product_name)\n",
    "            write_file.write(\"|\")\n",
    "            write_file.write(previous_date)\n",
    "            write_file.write(\"|\")\n",
    "            write_file.write('%d' % int(prediction))\n",
    "            write_file.write(\"|\")\n",
    "            write_file.write(arrow.now().format('YYYY-MM-DD'))\n",
    "        \n",
    "        # The mean squared error\n",
    "       # print(\"Mean squared error: %.2f\"\n",
    "        #         % np.mean((regr.predict(product_qty_test) - days_test) ** 2))\n",
    "        # Explained variance score: 1 is perfect prediction\n",
    "        # print('Variance score: %.2f' % regr.score(product_qty_test, days_test))\n",
    "\n",
    "        # Plot outputs\n",
    "        #plt.scatter(product_qty_test, days_test,  color='black')\n",
    "        #plt.plot(product_qty_test, regr.predict(product_qty_test), color='blue',linewidth=3)\n",
    "        #plt.xticks(())\n",
    "        #plt.yticks(())\n",
    "        #plt.show()"
   ]
  },
  {
   "cell_type": "code",
   "execution_count": null,
   "metadata": {
    "collapsed": true
   },
   "outputs": [],
   "source": [
    ""
   ]
  },
  {
   "cell_type": "code",
   "execution_count": null,
   "metadata": {
    "collapsed": true
   },
   "outputs": [],
   "source": [
    ""
   ]
  },
  {
   "cell_type": "code",
   "execution_count": null,
   "metadata": {
    "collapsed": true
   },
   "outputs": [],
   "source": [
    ""
   ]
  },
  {
   "cell_type": "code",
   "execution_count": null,
   "metadata": {
    "collapsed": true
   },
   "outputs": [],
   "source": [
    ""
   ]
  },
  {
   "cell_type": "code",
   "execution_count": null,
   "metadata": {
    "collapsed": true
   },
   "outputs": [],
   "source": [
    ""
   ]
  }
 ],
 "metadata": {
  "kernelspec": {
   "display_name": "Python 2",
   "language": "python",
   "name": "python2"
  },
  "language_info": {
   "codemirror_mode": {
    "name": "ipython",
    "version": 2.0
   },
   "file_extension": ".py",
   "mimetype": "text/x-python",
   "name": "python",
   "nbconvert_exporter": "python",
   "pygments_lexer": "ipython2",
   "version": "2.7.12"
  }
 },
 "nbformat": 4,
 "nbformat_minor": 0
}